{
 "cells": [
  {
   "cell_type": "code",
   "execution_count": 1,
   "id": "901e70db-03cd-4e3f-8cd2-0d88feeeeed1",
   "metadata": {},
   "outputs": [],
   "source": [
    "import pandas as pd"
   ]
  },
  {
   "cell_type": "code",
   "execution_count": 7,
   "id": "c307f1de-3a65-41c1-ace0-62faf5cef145",
   "metadata": {},
   "outputs": [],
   "source": [
    "df = pd.read_csv('sales_data_sample.csv', encoding='latin1')"
   ]
  },
  {
   "cell_type": "code",
   "execution_count": 8,
   "id": "46543b30-0633-45ed-97a8-fcffe3a9facc",
   "metadata": {},
   "outputs": [
    {
     "name": "stdout",
     "output_type": "stream",
     "text": [
      "(2823, 25)\n",
      "   ORDERNUMBER  QUANTITYORDERED  PRICEEACH  ORDERLINENUMBER    SALES  \\\n",
      "0        10107               30      95.70                2  2871.00   \n",
      "1        10121               34      81.35                5  2765.90   \n",
      "2        10134               41      94.74                2  3884.34   \n",
      "3        10145               45      83.26                6  3746.70   \n",
      "4        10159               49     100.00               14  5205.27   \n",
      "\n",
      "         ORDERDATE   STATUS  QTR_ID  MONTH_ID  YEAR_ID  ...  \\\n",
      "0   2/24/2003 0:00  Shipped       1         2     2003  ...   \n",
      "1    5/7/2003 0:00  Shipped       2         5     2003  ...   \n",
      "2    7/1/2003 0:00  Shipped       3         7     2003  ...   \n",
      "3   8/25/2003 0:00  Shipped       3         8     2003  ...   \n",
      "4  10/10/2003 0:00  Shipped       4        10     2003  ...   \n",
      "\n",
      "                    ADDRESSLINE1  ADDRESSLINE2           CITY STATE  \\\n",
      "0        897 Long Airport Avenue           NaN            NYC    NY   \n",
      "1             59 rue de l'Abbaye           NaN          Reims   NaN   \n",
      "2  27 rue du Colonel Pierre Avia           NaN          Paris   NaN   \n",
      "3             78934 Hillside Dr.           NaN       Pasadena    CA   \n",
      "4                7734 Strong St.           NaN  San Francisco    CA   \n",
      "\n",
      "  POSTALCODE COUNTRY TERRITORY CONTACTLASTNAME CONTACTFIRSTNAME DEALSIZE  \n",
      "0      10022     USA       NaN              Yu             Kwai    Small  \n",
      "1      51100  France      EMEA         Henriot             Paul    Small  \n",
      "2      75508  France      EMEA        Da Cunha           Daniel   Medium  \n",
      "3      90003     USA       NaN           Young            Julie   Medium  \n",
      "4        NaN     USA       NaN           Brown            Julie   Medium  \n",
      "\n",
      "[5 rows x 25 columns]\n",
      "<class 'pandas.core.frame.DataFrame'>\n",
      "RangeIndex: 2823 entries, 0 to 2822\n",
      "Data columns (total 25 columns):\n",
      " #   Column            Non-Null Count  Dtype  \n",
      "---  ------            --------------  -----  \n",
      " 0   ORDERNUMBER       2823 non-null   int64  \n",
      " 1   QUANTITYORDERED   2823 non-null   int64  \n",
      " 2   PRICEEACH         2823 non-null   float64\n",
      " 3   ORDERLINENUMBER   2823 non-null   int64  \n",
      " 4   SALES             2823 non-null   float64\n",
      " 5   ORDERDATE         2823 non-null   object \n",
      " 6   STATUS            2823 non-null   object \n",
      " 7   QTR_ID            2823 non-null   int64  \n",
      " 8   MONTH_ID          2823 non-null   int64  \n",
      " 9   YEAR_ID           2823 non-null   int64  \n",
      " 10  PRODUCTLINE       2823 non-null   object \n",
      " 11  MSRP              2823 non-null   int64  \n",
      " 12  PRODUCTCODE       2823 non-null   object \n",
      " 13  CUSTOMERNAME      2823 non-null   object \n",
      " 14  PHONE             2823 non-null   object \n",
      " 15  ADDRESSLINE1      2823 non-null   object \n",
      " 16  ADDRESSLINE2      302 non-null    object \n",
      " 17  CITY              2823 non-null   object \n",
      " 18  STATE             1337 non-null   object \n",
      " 19  POSTALCODE        2747 non-null   object \n",
      " 20  COUNTRY           2823 non-null   object \n",
      " 21  TERRITORY         1749 non-null   object \n",
      " 22  CONTACTLASTNAME   2823 non-null   object \n",
      " 23  CONTACTFIRSTNAME  2823 non-null   object \n",
      " 24  DEALSIZE          2823 non-null   object \n",
      "dtypes: float64(2), int64(7), object(16)\n",
      "memory usage: 551.5+ KB\n",
      "None\n"
     ]
    }
   ],
   "source": [
    "print(df.shape)\n",
    "print(df.head())\n",
    "print(df.info())"
   ]
  },
  {
   "cell_type": "code",
   "execution_count": 9,
   "id": "8821b394-d850-4d0d-a210-c2e4393f8be4",
   "metadata": {},
   "outputs": [
    {
     "name": "stdout",
     "output_type": "stream",
     "text": [
      "ORDERNUMBER            0\n",
      "QUANTITYORDERED        0\n",
      "PRICEEACH              0\n",
      "ORDERLINENUMBER        0\n",
      "SALES                  0\n",
      "ORDERDATE              0\n",
      "STATUS                 0\n",
      "QTR_ID                 0\n",
      "MONTH_ID               0\n",
      "YEAR_ID                0\n",
      "PRODUCTLINE            0\n",
      "MSRP                   0\n",
      "PRODUCTCODE            0\n",
      "CUSTOMERNAME           0\n",
      "PHONE                  0\n",
      "ADDRESSLINE1           0\n",
      "ADDRESSLINE2        2521\n",
      "CITY                   0\n",
      "STATE               1486\n",
      "POSTALCODE            76\n",
      "COUNTRY                0\n",
      "TERRITORY           1074\n",
      "CONTACTLASTNAME        0\n",
      "CONTACTFIRSTNAME       0\n",
      "DEALSIZE               0\n",
      "dtype: int64\n"
     ]
    }
   ],
   "source": [
    "print(df.isnull().sum())"
   ]
  },
  {
   "cell_type": "code",
   "execution_count": 10,
   "id": "556f64b8-7921-4f8e-89a8-846a464e685d",
   "metadata": {},
   "outputs": [],
   "source": [
    "df=df.dropna()"
   ]
  },
  {
   "cell_type": "code",
   "execution_count": 28,
   "id": "c5d8828a-93b2-41ba-9c78-d1732f5714c7",
   "metadata": {},
   "outputs": [
    {
     "name": "stdout",
     "output_type": "stream",
     "text": [
      "<class 'pandas.core.frame.DataFrame'>\n",
      "Index: 147 entries, 10 to 2791\n",
      "Data columns (total 25 columns):\n",
      " #   Column            Non-Null Count  Dtype         \n",
      "---  ------            --------------  -----         \n",
      " 0   ORDERNUMBER       147 non-null    int64         \n",
      " 1   QUANTITYORDERED   147 non-null    int32         \n",
      " 2   PRICEEACH         147 non-null    float64       \n",
      " 3   ORDERLINENUMBER   147 non-null    int64         \n",
      " 4   SALES             147 non-null    float64       \n",
      " 5   ORDERDATE         147 non-null    datetime64[ns]\n",
      " 6   STATUS            147 non-null    object        \n",
      " 7   QTR_ID            147 non-null    int64         \n",
      " 8   MONTH_ID          147 non-null    int64         \n",
      " 9   YEAR_ID           147 non-null    int64         \n",
      " 10  PRODUCTLINE       147 non-null    object        \n",
      " 11  MSRP              147 non-null    int64         \n",
      " 12  PRODUCTCODE       147 non-null    object        \n",
      " 13  CUSTOMERNAME      147 non-null    object        \n",
      " 14  PHONE             147 non-null    object        \n",
      " 15  ADDRESSLINE1      147 non-null    object        \n",
      " 16  ADDRESSLINE2      147 non-null    object        \n",
      " 17  CITY              147 non-null    object        \n",
      " 18  STATE             147 non-null    object        \n",
      " 19  POSTALCODE        147 non-null    object        \n",
      " 20  COUNTRY           147 non-null    object        \n",
      " 21  TERRITORY         147 non-null    object        \n",
      " 22  CONTACTLASTNAME   147 non-null    object        \n",
      " 23  CONTACTFIRSTNAME  147 non-null    object        \n",
      " 24  DEALSIZE          147 non-null    object        \n",
      "dtypes: datetime64[ns](1), float64(2), int32(1), int64(6), object(15)\n",
      "memory usage: 29.3+ KB\n",
      "None\n"
     ]
    }
   ],
   "source": [
    "print(df.info())"
   ]
  },
  {
   "cell_type": "code",
   "execution_count": 11,
   "id": "772bfc72-302f-47f0-8ea1-ec8b7f5ff81b",
   "metadata": {},
   "outputs": [],
   "source": [
    "df = df.drop_duplicates()"
   ]
  },
  {
   "cell_type": "code",
   "execution_count": 27,
   "id": "7a3dec4f-b6fc-4558-8e29-2b511b768e9f",
   "metadata": {},
   "outputs": [
    {
     "name": "stdout",
     "output_type": "stream",
     "text": [
      "<class 'pandas.core.frame.DataFrame'>\n",
      "Index: 147 entries, 10 to 2791\n",
      "Data columns (total 25 columns):\n",
      " #   Column            Non-Null Count  Dtype         \n",
      "---  ------            --------------  -----         \n",
      " 0   ORDERNUMBER       147 non-null    int64         \n",
      " 1   QUANTITYORDERED   147 non-null    int32         \n",
      " 2   PRICEEACH         147 non-null    float64       \n",
      " 3   ORDERLINENUMBER   147 non-null    int64         \n",
      " 4   SALES             147 non-null    float64       \n",
      " 5   ORDERDATE         147 non-null    datetime64[ns]\n",
      " 6   STATUS            147 non-null    object        \n",
      " 7   QTR_ID            147 non-null    int64         \n",
      " 8   MONTH_ID          147 non-null    int64         \n",
      " 9   YEAR_ID           147 non-null    int64         \n",
      " 10  PRODUCTLINE       147 non-null    object        \n",
      " 11  MSRP              147 non-null    int64         \n",
      " 12  PRODUCTCODE       147 non-null    object        \n",
      " 13  CUSTOMERNAME      147 non-null    object        \n",
      " 14  PHONE             147 non-null    object        \n",
      " 15  ADDRESSLINE1      147 non-null    object        \n",
      " 16  ADDRESSLINE2      147 non-null    object        \n",
      " 17  CITY              147 non-null    object        \n",
      " 18  STATE             147 non-null    object        \n",
      " 19  POSTALCODE        147 non-null    object        \n",
      " 20  COUNTRY           147 non-null    object        \n",
      " 21  TERRITORY         147 non-null    object        \n",
      " 22  CONTACTLASTNAME   147 non-null    object        \n",
      " 23  CONTACTFIRSTNAME  147 non-null    object        \n",
      " 24  DEALSIZE          147 non-null    object        \n",
      "dtypes: datetime64[ns](1), float64(2), int32(1), int64(6), object(15)\n",
      "memory usage: 29.3+ KB\n",
      "None\n"
     ]
    }
   ],
   "source": [
    "print(df.info())"
   ]
  },
  {
   "cell_type": "code",
   "execution_count": 15,
   "id": "99ed0325-f8f2-4af1-b96d-a5183bc0fcc6",
   "metadata": {},
   "outputs": [],
   "source": [
    "df['ORDERDATE'] = pd.to_datetime(df['ORDERDATE'], errors='coerce')"
   ]
  },
  {
   "cell_type": "code",
   "execution_count": 26,
   "id": "e29714bf-e66b-45b5-b8df-2e2184f6da90",
   "metadata": {},
   "outputs": [
    {
     "name": "stdout",
     "output_type": "stream",
     "text": [
      "<class 'pandas.core.frame.DataFrame'>\n",
      "Index: 147 entries, 10 to 2791\n",
      "Data columns (total 25 columns):\n",
      " #   Column            Non-Null Count  Dtype         \n",
      "---  ------            --------------  -----         \n",
      " 0   ORDERNUMBER       147 non-null    int64         \n",
      " 1   QUANTITYORDERED   147 non-null    int32         \n",
      " 2   PRICEEACH         147 non-null    float64       \n",
      " 3   ORDERLINENUMBER   147 non-null    int64         \n",
      " 4   SALES             147 non-null    float64       \n",
      " 5   ORDERDATE         147 non-null    datetime64[ns]\n",
      " 6   STATUS            147 non-null    object        \n",
      " 7   QTR_ID            147 non-null    int64         \n",
      " 8   MONTH_ID          147 non-null    int64         \n",
      " 9   YEAR_ID           147 non-null    int64         \n",
      " 10  PRODUCTLINE       147 non-null    object        \n",
      " 11  MSRP              147 non-null    int64         \n",
      " 12  PRODUCTCODE       147 non-null    object        \n",
      " 13  CUSTOMERNAME      147 non-null    object        \n",
      " 14  PHONE             147 non-null    object        \n",
      " 15  ADDRESSLINE1      147 non-null    object        \n",
      " 16  ADDRESSLINE2      147 non-null    object        \n",
      " 17  CITY              147 non-null    object        \n",
      " 18  STATE             147 non-null    object        \n",
      " 19  POSTALCODE        147 non-null    object        \n",
      " 20  COUNTRY           147 non-null    object        \n",
      " 21  TERRITORY         147 non-null    object        \n",
      " 22  CONTACTLASTNAME   147 non-null    object        \n",
      " 23  CONTACTFIRSTNAME  147 non-null    object        \n",
      " 24  DEALSIZE          147 non-null    object        \n",
      "dtypes: datetime64[ns](1), float64(2), int32(1), int64(6), object(15)\n",
      "memory usage: 29.3+ KB\n",
      "None\n"
     ]
    }
   ],
   "source": [
    "print(df.info())"
   ]
  },
  {
   "cell_type": "code",
   "execution_count": 23,
   "id": "486a1b82-a2a5-4ee6-b9ea-a33a40a5fc70",
   "metadata": {},
   "outputs": [],
   "source": [
    "df['COUNTRY'] = df['COUNTRY'].str.strip().str.upper()"
   ]
  },
  {
   "cell_type": "code",
   "execution_count": 17,
   "id": "1a81c9e5-1ee2-4364-9740-da29e585dc8c",
   "metadata": {},
   "outputs": [],
   "source": [
    "df['PRICEEACH'] = df['PRICEEACH'].astype(float)\n",
    "df['QUANTITYORDERED'] = df['QUANTITYORDERED'].astype(int)\n"
   ]
  },
  {
   "cell_type": "code",
   "execution_count": 24,
   "id": "52e379d0-1c0c-42ad-a3ad-165d99a6ab6f",
   "metadata": {},
   "outputs": [],
   "source": [
    "df.to_csv('cleaned_sales_data.csv', index=False)"
   ]
  },
  {
   "cell_type": "code",
   "execution_count": null,
   "id": "5cba79bd-a5cf-40ce-a3df-3c1036bf2026",
   "metadata": {},
   "outputs": [],
   "source": []
  }
 ],
 "metadata": {
  "kernelspec": {
   "display_name": "Python 3 (ipykernel)",
   "language": "python",
   "name": "python3"
  },
  "language_info": {
   "codemirror_mode": {
    "name": "ipython",
    "version": 3
   },
   "file_extension": ".py",
   "mimetype": "text/x-python",
   "name": "python",
   "nbconvert_exporter": "python",
   "pygments_lexer": "ipython3",
   "version": "3.11.7"
  }
 },
 "nbformat": 4,
 "nbformat_minor": 5
}
